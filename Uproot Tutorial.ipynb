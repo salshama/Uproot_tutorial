{
 "cells": [
  {
   "cell_type": "code",
   "execution_count": 1,
   "id": "df0fb91c",
   "metadata": {},
   "outputs": [],
   "source": [
    "import numpy as np\n",
    "import scipy as sp\n",
    "import uproot\n",
    "import matplotlib.pyplot as plt\n",
    "import numpy as np\n",
    "import awkward as ak\n",
    "import vector\n",
    "from scipy.optimize import curve_fit"
   ]
  },
  {
   "cell_type": "code",
   "execution_count": 2,
   "id": "fe9859f4",
   "metadata": {},
   "outputs": [
    {
     "data": {
      "text/plain": [
       "<ReadOnlyDirectory '/' at 0x7f25cf20c580>"
      ]
     },
     "execution_count": 2,
     "metadata": {},
     "output_type": "execute_result"
    }
   ],
   "source": [
    "file = uproot.open('uproot-tutorial-file.root') #opening a ROOT file\n",
    "\n",
    "file"
   ]
  },
  {
   "cell_type": "code",
   "execution_count": 3,
   "id": "ec7d1a18",
   "metadata": {},
   "outputs": [
    {
     "data": {
      "text/plain": [
       "['Events;1']"
      ]
     },
     "execution_count": 3,
     "metadata": {},
     "output_type": "execute_result"
    }
   ],
   "source": [
    "file.keys() #;1 is the cycle number. A key refers to the name of each item in the file."
   ]
  },
  {
   "cell_type": "code",
   "execution_count": 4,
   "id": "5b8ac0b1",
   "metadata": {},
   "outputs": [
    {
     "data": {
      "text/plain": [
       "{'Events': 'TTree'}"
      ]
     },
     "execution_count": 4,
     "metadata": {},
     "output_type": "execute_result"
    }
   ],
   "source": [
    "file.classnames() #Classname refers to the type of each item."
   ]
  },
  {
   "cell_type": "code",
   "execution_count": 5,
   "id": "89c0ac25",
   "metadata": {},
   "outputs": [
    {
     "data": {
      "text/plain": [
       "<TTree 'Events' (6 branches) at 0x7f25bff905b0>"
      ]
     },
     "execution_count": 5,
     "metadata": {},
     "output_type": "execute_result"
    }
   ],
   "source": [
    "file['Events'] #Accessing the TTree object"
   ]
  },
  {
   "cell_type": "code",
   "execution_count": 6,
   "id": "2f196009",
   "metadata": {},
   "outputs": [
    {
     "data": {
      "text/plain": [
       "['nMuon', 'Muon_pt', 'Muon_eta', 'Muon_phi', 'Muon_mass', 'Muon_charge']"
      ]
     },
     "execution_count": 6,
     "metadata": {},
     "output_type": "execute_result"
    }
   ],
   "source": [
    "tree = file['Events'] #Trees are tables of information. Trees are composed of branches (columns of the table)\n",
    "\n",
    "tree.keys()"
   ]
  },
  {
   "cell_type": "code",
   "execution_count": 7,
   "id": "7d8d9e24",
   "metadata": {},
   "outputs": [
    {
     "data": {
      "text/plain": [
       "<Array [{nMuon: 2, Muon_pt: [10.8, ... -1, 1]}] type='100000 * {\"nMuon\": uint32,...'>"
      ]
     },
     "execution_count": 7,
     "metadata": {},
     "output_type": "execute_result"
    }
   ],
   "source": [
    "#Simplest way to get data from table is using arrays\n",
    "\n",
    "tree.arrays()"
   ]
  },
  {
   "cell_type": "code",
   "execution_count": 8,
   "id": "630375ee",
   "metadata": {},
   "outputs": [
    {
     "data": {
      "text/plain": [
       "<Array [2, 2, 1, 4, 4, 3, ... 0, 3, 2, 3, 2, 3] type='100000 * uint32'>"
      ]
     },
     "execution_count": 8,
     "metadata": {},
     "output_type": "execute_result"
    }
   ],
   "source": [
    "branches = tree.arrays()\n",
    "\n",
    "branches['nMuon'] \n",
    "\n",
    "#type='100000 * uint32' represents that there are 100,000 entries and each entry is a 32-bit unsigned integer. Each entry is an event."
   ]
  },
  {
   "cell_type": "code",
   "execution_count": 9,
   "id": "ebbdd350",
   "metadata": {},
   "outputs": [
    {
     "data": {
      "text/plain": [
       "<Array [[10.8, 15.7], ... 11.4, 3.08, 4.97]] type='100000 * var * float32'>"
      ]
     },
     "execution_count": 9,
     "metadata": {},
     "output_type": "execute_result"
    }
   ],
   "source": [
    "branches['Muon_pt']\n",
    "\n",
    "#Jagged array because number of entries is different for different events (different number of muons/event).\n",
    "#There are 100,000 rows, each containing a variable number of 32-bit numbers. So this is technically a 2D array."
   ]
  },
  {
   "cell_type": "code",
   "execution_count": 10,
   "id": "68ffd74c",
   "metadata": {},
   "outputs": [
    {
     "name": "stdout",
     "output_type": "stream",
     "text": [
      "[10.8, 15.7]\n",
      "[3.28]\n"
     ]
    }
   ],
   "source": [
    "print(branches['Muon_pt'][0]) #Indexing first event\n",
    "print(branches['Muon_pt'][2]) #Indexing third event"
   ]
  },
  {
   "cell_type": "code",
   "execution_count": 11,
   "id": "4f6d94e7",
   "metadata": {},
   "outputs": [
    {
     "data": {
      "text/plain": [
       "<Record ... 0.106], Muon_charge: [-1, -1]} type='{\"nMuon\": uint32, \"Muon_pt\": va...'>"
      ]
     },
     "execution_count": 11,
     "metadata": {},
     "output_type": "execute_result"
    }
   ],
   "source": [
    "branches[0]"
   ]
  },
  {
   "cell_type": "code",
   "execution_count": 12,
   "id": "150bc435",
   "metadata": {},
   "outputs": [
    {
     "data": {
      "text/plain": [
       "{'nMuon': 2,\n",
       " 'Muon_pt': [10.763696670532227, 15.736522674560547],\n",
       " 'Muon_eta': [1.0668272972106934, -0.563786506652832],\n",
       " 'Muon_phi': [-0.03427272289991379, 2.5426154136657715],\n",
       " 'Muon_mass': [0.10565836727619171, 0.10565836727619171],\n",
       " 'Muon_charge': [-1, -1]}"
      ]
     },
     "execution_count": 12,
     "metadata": {},
     "output_type": "execute_result"
    }
   ],
   "source": [
    "branches[0].tolist()"
   ]
  },
  {
   "cell_type": "code",
   "execution_count": 13,
   "id": "f42164b5",
   "metadata": {},
   "outputs": [
    {
     "data": {
      "image/png": "[encoded data removed]",
      "text/plain": [
       "<Figure size 432x288 with 1 Axes>"
      ]
     },
     "metadata": {
      "needs_background": "light"
     },
     "output_type": "display_data"
    }
   ],
   "source": [
    "plt.hist(branches['nMuon'],bins=10,range=(0,10))\n",
    "plt.xlabel('Number of Muons/Event')\n",
    "plt.ylabel('Number of Events')\n",
    "plt.show()"
   ]
  },
  {
   "cell_type": "code",
   "execution_count": 14,
   "id": "ae8fb90f",
   "metadata": {},
   "outputs": [
    {
     "name": "stdout",
     "output_type": "stream",
     "text": [
      "2.35286\n",
      "1.19175912851549\n",
      "39\n",
      "0\n"
     ]
    }
   ],
   "source": [
    "print(np.mean(branches['nMuon']))\n",
    "print(np.std(branches['nMuon']))\n",
    "print(np.max(branches['nMuon']))\n",
    "print(np.min(branches['nMuon']))"
   ]
  },
  {
   "cell_type": "code",
   "execution_count": 15,
   "id": "74f58de9",
   "metadata": {},
   "outputs": [
    {
     "data": {
      "image/png": "[encoded data removed]",
      "text/plain": [
       "<Figure size 432x288 with 1 Axes>"
      ]
     },
     "metadata": {
      "needs_background": "light"
     },
     "output_type": "display_data"
    }
   ],
   "source": [
    "plt.hist(ak.flatten(branches['Muon_pt']),bins=100,range=(0,100))\n",
    "plt.xlabel('Muon $p_{\\mathrm{T}}$ [GeV]')\n",
    "plt.ylabel('Number of muons / 1 GeV')\n",
    "plt.yscale('log')\n",
    "plt.show()"
   ]
  },
  {
   "cell_type": "code",
   "execution_count": 16,
   "id": "ff116498",
   "metadata": {},
   "outputs": [
    {
     "data": {
      "image/png": "[encoded data removed]",
      "text/plain": [
       "<Figure size 432x288 with 1 Axes>"
      ]
     },
     "metadata": {
      "needs_background": "light"
     },
     "output_type": "display_data"
    }
   ],
   "source": [
    "plt.hist(ak.flatten(branches['Muon_pt']), bins=np.logspace(np.log10(1), np.log10(100), 100))\n",
    "plt.xlabel('Muon $p_{\\mathrm{T}}$ [GeV]')\n",
    "plt.xscale('log')\n",
    "plt.ylabel('Number of Muons')\n",
    "plt.show()"
   ]
  },
  {
   "cell_type": "code",
   "execution_count": 17,
   "id": "63b06a4c",
   "metadata": {},
   "outputs": [
    {
     "name": "stdout",
     "output_type": "stream",
     "text": [
      "100000\n",
      "100000\n"
     ]
    }
   ],
   "source": [
    "print(len(branches))\n",
    "print(len(branches['Muon_pt']))"
   ]
  },
  {
   "cell_type": "code",
   "execution_count": 18,
   "id": "02bfb900",
   "metadata": {},
   "outputs": [
    {
     "data": {
      "text/plain": [
       "<Array [False, False, True, ... False, False] type='100000 * bool'>"
      ]
     },
     "execution_count": 18,
     "metadata": {},
     "output_type": "execute_result"
    }
   ],
   "source": [
    "branches['nMuon'] == 1 #Checks to see if each entry has 1 muon, etc."
   ]
  },
  {
   "cell_type": "code",
   "execution_count": 19,
   "id": "e6f8865e",
   "metadata": {},
   "outputs": [],
   "source": [
    "#A mask is an array of boolean values that satisfies a specific criteria\n",
    "\n",
    "single_muon_mask = branches['nMuon'] == 1"
   ]
  },
  {
   "cell_type": "code",
   "execution_count": 20,
   "id": "6cffb562",
   "metadata": {},
   "outputs": [
    {
     "data": {
      "text/plain": [
       "13447"
      ]
     },
     "execution_count": 20,
     "metadata": {},
     "output_type": "execute_result"
    }
   ],
   "source": [
    "#Counting how many single-muon events there are, for example\n",
    "#0 is false, 1 is true, sum adds the true and false events together\n",
    "\n",
    "np.sum(single_muon_mask)"
   ]
  },
  {
   "cell_type": "code",
   "execution_count": 21,
   "id": "0ce5c452",
   "metadata": {},
   "outputs": [
    {
     "data": {
      "text/plain": [
       "<Array [[3.28], [3.84], ... [13.3], [9.48]] type='13447 * var * float32'>"
      ]
     },
     "execution_count": 21,
     "metadata": {},
     "output_type": "execute_result"
    }
   ],
   "source": [
    "#We can use masks as indices to cut out events we do not want\n",
    "\n",
    "branches['Muon_pt'][single_muon_mask]"
   ]
  },
  {
   "cell_type": "code",
   "execution_count": 22,
   "id": "7730630f",
   "metadata": {},
   "outputs": [
    {
     "data": {
      "image/png": "[encoded data removed]",
      "text/plain": [
       "<Figure size 432x288 with 1 Axes>"
      ]
     },
     "metadata": {
      "needs_background": "light"
     },
     "output_type": "display_data"
    }
   ],
   "source": [
    "#Plotting the pT of only single-muon events\n",
    "\n",
    "plt.hist(ak.flatten(branches['Muon_pt'][single_muon_mask]), bins=100, range=(0, 100))\n",
    "plt.xlabel('Muon $p_{\\mathrm{T}}$ [GeV]')\n",
    "plt.ylabel('Number of single muons / 1 GeV')\n",
    "plt.yscale('log')\n",
    "plt.show()"
   ]
  },
  {
   "cell_type": "code",
   "execution_count": 23,
   "id": "0541e69e",
   "metadata": {},
   "outputs": [
    {
     "name": "stdout",
     "output_type": "stream",
     "text": [
      "[[True, True], [True, True], [False], ... True], [True, True], [True, True, True]]\n",
      "204564\n"
     ]
    }
   ],
   "source": [
    "eta_mask = abs(branches['Muon_eta']) < 2\n",
    "\n",
    "print(eta_mask)\n",
    "\n",
    "print(np.sum(eta_mask))"
   ]
  },
  {
   "cell_type": "code",
   "execution_count": 24,
   "id": "c24ec834",
   "metadata": {},
   "outputs": [
    {
     "data": {
      "image/png": "[encoded data removed]",
      "text/plain": [
       "<Figure size 432x288 with 1 Axes>"
      ]
     },
     "metadata": {
      "needs_background": "light"
     },
     "output_type": "display_data"
    },
    {
     "data": {
      "image/png": "[encoded data removed]",
      "text/plain": [
       "<Figure size 432x288 with 1 Axes>"
      ]
     },
     "metadata": {
      "needs_background": "light"
     },
     "output_type": "display_data"
    }
   ],
   "source": [
    "#Plotting original and afte-cut eta distributions\n",
    "\n",
    "plt.hist(ak.flatten(branches['Muon_eta']), bins=50, range=(-2.5, 2.5))\n",
    "plt.title('No selection')\n",
    "plt.xlabel('Muon $\\eta$')\n",
    "plt.ylabel('Number of muons')\n",
    "plt.show()\n",
    "\n",
    "plt.hist(ak.flatten(branches['Muon_eta'][eta_mask]), bins=50, range=(-2.5, 2.5))\n",
    "plt.title('With $|\\eta| < 2$ selection')\n",
    "plt.xlabel('Muon $\\eta$')\n",
    "plt.ylabel('Number of muons')\n",
    "plt.show()"
   ]
  },
  {
   "cell_type": "code",
   "execution_count": 25,
   "id": "da2c03dc",
   "metadata": {},
   "outputs": [
    {
     "name": "stdout",
     "output_type": "stream",
     "text": [
      "[True, True, False, True, True, True, True, ... True, True, True, True, True, True]\n",
      "[[False, False], [False, False], [False, ... [False, False], [False, False, False]]\n",
      "[[True, True], [True, True], [True], ... True], [True, True], [True, True, True]]\n"
     ]
    }
   ],
   "source": [
    "print(~single_muon_mask) #The ~ is the \"not\" operator so can invert selections\n",
    "\n",
    "print(single_muon_mask & eta_mask) #Intersection between two selections\n",
    "\n",
    "print(single_muon_mask | eta_mask) #The | is the \"or\" operator so union of selections"
   ]
  },
  {
   "cell_type": "markdown",
   "id": "95e0f412",
   "metadata": {},
   "source": [
    "**Keep in mind that the operator \"&\" has a higher precedence than == so it is evaluated first.**"
   ]
  },
  {
   "cell_type": "code",
   "execution_count": 26,
   "id": "7f6030be",
   "metadata": {},
   "outputs": [
    {
     "data": {
      "image/png": "[encoded data removed]",
      "text/plain": [
       "<Figure size 432x288 with 1 Axes>"
      ]
     },
     "metadata": {
      "needs_background": "light"
     },
     "output_type": "display_data"
    }
   ],
   "source": [
    "#Comparing distributions for different selections\n",
    "#Add legends to differentiate\n",
    "#Scale both distributions to see better so use density=True where density treats his as a PDF\n",
    "\n",
    "plt.hist([ak.flatten(branches['Muon_pt'][single_muon_mask & eta_mask]), ak.flatten(branches['Muon_pt'][single_muon_mask & ~eta_mask])], label=['$|\\eta| < 2$', '$|\\eta| \\geq 2$'],bins=25, density=True, range=(0, 50))\n",
    "plt.xlabel('Muon $p_{\\mathrm{T}}$ [GeV]')\n",
    "plt.ylabel('Number of single muons / 2 GeV')\n",
    "plt.legend()\n",
    "plt.show()"
   ]
  },
  {
   "cell_type": "code",
   "execution_count": 27,
   "id": "5e3fa02d",
   "metadata": {},
   "outputs": [
    {
     "data": {
      "text/plain": [
       "204564"
      ]
     },
     "execution_count": 27,
     "metadata": {},
     "output_type": "execute_result"
    }
   ],
   "source": [
    "#Row-based analysis\n",
    "#For loops over every event and every muon in the event\n",
    "\n",
    "eta_count = 0\n",
    "\n",
    "for event in branches['Muon_eta']:\n",
    "    for eta in event:\n",
    "        if abs(eta) < 2:\n",
    "            eta_count += 1\n",
    "            \n",
    "eta_count"
   ]
  },
  {
   "cell_type": "code",
   "execution_count": 28,
   "id": "6d847627",
   "metadata": {},
   "outputs": [
    {
     "data": {
      "text/plain": [
       "204564"
      ]
     },
     "execution_count": 28,
     "metadata": {},
     "output_type": "execute_result"
    }
   ],
   "source": [
    "#Columnar analysis\n",
    "#Running on all muons at once\n",
    "#In this case, columnar approach is ~1000 faster\n",
    "\n",
    "np.sum(abs(branches['Muon_eta']) < 2)"
   ]
  },
  {
   "cell_type": "markdown",
   "id": "1d5dd09f",
   "metadata": {},
   "source": [
    "**Finding dimuon invariant mass resonances**"
   ]
  },
  {
   "cell_type": "code",
   "execution_count": 29,
   "id": "e6c38dde",
   "metadata": {},
   "outputs": [],
   "source": [
    "two_muons_mask = branches['nMuon'] == 2"
   ]
  },
  {
   "cell_type": "code",
   "execution_count": 30,
   "id": "6d5dce15",
   "metadata": {
    "scrolled": false
   },
   "outputs": [
    {
     "ename": "ImportError",
     "evalue": "awkward 1.0.2 is too old; please upgrade to 1.2.0 or later",
     "output_type": "error",
     "traceback": [
      "\u001b[0;31m---------------------------------------------------------------------------\u001b[0m",
      "\u001b[0;31mImportError\u001b[0m                               Traceback (most recent call last)",
      "\u001b[0;32m/tmp/ipykernel_732/782660231.py\u001b[0m in \u001b[0;36m<module>\u001b[0;34m\u001b[0m\n\u001b[1;32m      1\u001b[0m \u001b[0;31m#Using vector package to get four-momenta of all muons and passing given arrays\u001b[0m\u001b[0;34m\u001b[0m\u001b[0;34m\u001b[0m\u001b[0;34m\u001b[0m\u001b[0m\n\u001b[1;32m      2\u001b[0m \u001b[0;34m\u001b[0m\u001b[0m\n\u001b[0;32m----> 3\u001b[0;31m \u001b[0mmuon_p4\u001b[0m \u001b[0;34m=\u001b[0m \u001b[0mvector\u001b[0m\u001b[0;34m.\u001b[0m\u001b[0mzip\u001b[0m\u001b[0;34m(\u001b[0m\u001b[0;34m{\u001b[0m\u001b[0;34m'pt'\u001b[0m\u001b[0;34m:\u001b[0m\u001b[0mbranches\u001b[0m\u001b[0;34m[\u001b[0m\u001b[0;34m'Muon_pt'\u001b[0m\u001b[0;34m]\u001b[0m\u001b[0;34m,\u001b[0m\u001b[0;34m'eta'\u001b[0m\u001b[0;34m:\u001b[0m\u001b[0mbranches\u001b[0m\u001b[0;34m[\u001b[0m\u001b[0;34m'Muon_eta'\u001b[0m\u001b[0;34m]\u001b[0m\u001b[0;34m,\u001b[0m\u001b[0;34m'phi'\u001b[0m\u001b[0;34m:\u001b[0m\u001b[0mbranches\u001b[0m\u001b[0;34m[\u001b[0m\u001b[0;34m'Muon_phi'\u001b[0m\u001b[0;34m]\u001b[0m\u001b[0;34m,\u001b[0m\u001b[0;34m'mass'\u001b[0m\u001b[0;34m:\u001b[0m\u001b[0mbranches\u001b[0m\u001b[0;34m[\u001b[0m\u001b[0;34m'Muon_mass'\u001b[0m\u001b[0;34m]\u001b[0m\u001b[0;34m}\u001b[0m\u001b[0;34m)\u001b[0m\u001b[0;34m\u001b[0m\u001b[0;34m\u001b[0m\u001b[0m\n\u001b[0m",
      "\u001b[0;32m~/.local/lib/python3.9/site-packages/vector/_backends/awkward_constructors.py\u001b[0m in \u001b[0;36mzip\u001b[0;34m(arrays, depth_limit)\u001b[0m\n\u001b[1;32m    346\u001b[0m \u001b[0;34m\u001b[0m\u001b[0m\n\u001b[1;32m    347\u001b[0m     \u001b[0;32mimport\u001b[0m \u001b[0mvector\u001b[0m\u001b[0;34m\u001b[0m\u001b[0;34m\u001b[0m\u001b[0m\n\u001b[0;32m--> 348\u001b[0;31m     \u001b[0;32mimport\u001b[0m \u001b[0mvector\u001b[0m\u001b[0;34m.\u001b[0m\u001b[0m_backends\u001b[0m\u001b[0;34m.\u001b[0m\u001b[0mawkward_\u001b[0m\u001b[0;34m\u001b[0m\u001b[0;34m\u001b[0m\u001b[0m\n\u001b[0m\u001b[1;32m    349\u001b[0m \u001b[0;34m\u001b[0m\u001b[0m\n\u001b[1;32m    350\u001b[0m     \u001b[0mis_momentum\u001b[0m\u001b[0;34m,\u001b[0m \u001b[0mdimension\u001b[0m\u001b[0;34m,\u001b[0m \u001b[0mnames\u001b[0m\u001b[0;34m,\u001b[0m \u001b[0mcolumns\u001b[0m \u001b[0;34m=\u001b[0m \u001b[0m_check_names\u001b[0m\u001b[0;34m(\u001b[0m\u001b[0marrays\u001b[0m\u001b[0;34m,\u001b[0m \u001b[0mlist\u001b[0m\u001b[0;34m(\u001b[0m\u001b[0marrays\u001b[0m\u001b[0;34m.\u001b[0m\u001b[0mkeys\u001b[0m\u001b[0;34m(\u001b[0m\u001b[0;34m)\u001b[0m\u001b[0;34m)\u001b[0m\u001b[0;34m)\u001b[0m\u001b[0;34m\u001b[0m\u001b[0;34m\u001b[0m\u001b[0m\n",
      "\u001b[0;32m~/.local/lib/python3.9/site-packages/vector/_backends/awkward_.py\u001b[0m in \u001b[0;36m<module>\u001b[0;34m\u001b[0m\n\u001b[1;32m     76\u001b[0m \u001b[0;34m\u001b[0m\u001b[0m\n\u001b[1;32m     77\u001b[0m \u001b[0;31m# Throws an error if awkward is too old\u001b[0m\u001b[0;34m\u001b[0m\u001b[0;34m\u001b[0m\u001b[0;34m\u001b[0m\u001b[0m\n\u001b[0;32m---> 78\u001b[0;31m \u001b[0mvector\u001b[0m\u001b[0;34m.\u001b[0m\u001b[0m_import_awkward\u001b[0m\u001b[0;34m(\u001b[0m\u001b[0;34m)\u001b[0m\u001b[0;34m\u001b[0m\u001b[0;34m\u001b[0m\u001b[0m\n\u001b[0m\u001b[1;32m     79\u001b[0m \u001b[0;34m\u001b[0m\u001b[0m\n\u001b[1;32m     80\u001b[0m \u001b[0mArrayOrRecord\u001b[0m \u001b[0;34m=\u001b[0m \u001b[0mtyping\u001b[0m\u001b[0;34m.\u001b[0m\u001b[0mTypeVar\u001b[0m\u001b[0;34m(\u001b[0m\u001b[0;34m\"ArrayOrRecord\"\u001b[0m\u001b[0;34m,\u001b[0m \u001b[0mbound\u001b[0m\u001b[0;34m=\u001b[0m\u001b[0mtyping\u001b[0m\u001b[0;34m.\u001b[0m\u001b[0mUnion\u001b[0m\u001b[0;34m[\u001b[0m\u001b[0mak\u001b[0m\u001b[0;34m.\u001b[0m\u001b[0mArray\u001b[0m\u001b[0;34m,\u001b[0m \u001b[0mak\u001b[0m\u001b[0;34m.\u001b[0m\u001b[0mRecord\u001b[0m\u001b[0;34m]\u001b[0m\u001b[0;34m)\u001b[0m\u001b[0;34m\u001b[0m\u001b[0;34m\u001b[0m\u001b[0m\n",
      "\u001b[0;32m~/.local/lib/python3.9/site-packages/vector/__init__.py\u001b[0m in \u001b[0;36m_import_awkward\u001b[0;34m()\u001b[0m\n\u001b[1;32m     69\u001b[0m         \u001b[0;31m# VectorAwkward is still set to None\u001b[0m\u001b[0;34m\u001b[0m\u001b[0;34m\u001b[0m\u001b[0;34m\u001b[0m\u001b[0m\n\u001b[1;32m     70\u001b[0m         \u001b[0mmsg\u001b[0m \u001b[0;34m=\u001b[0m \u001b[0;34mf\"awkward {awk_version} is too old; please upgrade to 1.2.0 or later\"\u001b[0m\u001b[0;34m\u001b[0m\u001b[0;34m\u001b[0m\u001b[0m\n\u001b[0;32m---> 71\u001b[0;31m         \u001b[0;32mraise\u001b[0m \u001b[0mImportError\u001b[0m\u001b[0;34m(\u001b[0m\u001b[0mmsg\u001b[0m\u001b[0;34m)\u001b[0m\u001b[0;34m\u001b[0m\u001b[0;34m\u001b[0m\u001b[0m\n\u001b[0m\u001b[1;32m     72\u001b[0m \u001b[0;34m\u001b[0m\u001b[0m\n\u001b[1;32m     73\u001b[0m \u001b[0;34m\u001b[0m\u001b[0m\n",
      "\u001b[0;31mImportError\u001b[0m: awkward 1.0.2 is too old; please upgrade to 1.2.0 or later"
     ]
    }
   ],
   "source": [
    "#Using vector package to get four-momenta of all muons and passing given arrays\n",
    "\n",
    "muon_p4 = vector.zip({'pt':branches['Muon_pt'],'eta':branches['Muon_eta'],'phi':branches['Muon_phi'],'mass':branches['Muon_mass']})"
   ]
  },
  {
   "cell_type": "code",
   "execution_count": null,
   "id": "ae4632f7",
   "metadata": {},
   "outputs": [],
   "source": [
    "#Masking events that do not contain two muons\n",
    "\n",
    "two_muons_p4 = muon_p4[two_muons_mask]\n",
    "\n",
    "print(two_muons_p4)"
   ]
  },
  {
   "cell_type": "code",
   "execution_count": null,
   "id": "acee4997",
   "metadata": {},
   "outputs": [],
   "source": [
    "two_muons_p4.pt\n",
    "two_muons_p4.eta\n",
    "two_muons_p4.phi\n",
    "two_muons_p4.E\n",
    "two_muons_p4.mass"
   ]
  },
  {
   "cell_type": "code",
   "execution_count": null,
   "id": "1d2697d2",
   "metadata": {},
   "outputs": [],
   "source": [
    "#To find the invariant mass of two muons/event, we need the sum of their 4-vectors\n",
    "\n",
    "first_muon_p4 = two_muons_p4[:,0] #First muon/event using 2D slicing\n",
    "second_muon_p4 = two_muons_p4[:, 1] #Second muon/event using 2D slicing"
   ]
  },
  {
   "cell_type": "code",
   "execution_count": null,
   "id": "8dce56c7",
   "metadata": {},
   "outputs": [],
   "source": [
    "plt.hist(first_muon_p4.deltaR(second_muon_p4), bins=100)\n",
    "plt.xlabel('$\\Delta R$ between muons')\n",
    "plt.ylabel('Number of two-muon events')\n",
    "plt.show()\n",
    "\n",
    "#deltaR = sqrt(deltaEta^2 + deltaPhi^2)"
   ]
  },
  {
   "cell_type": "code",
   "execution_count": null,
   "id": "f13c8bc0",
   "metadata": {},
   "outputs": [],
   "source": [
    "sum_p4 = first_muon_p4 + second_muon_p4\n",
    "print(sum_p4) #1D array"
   ]
  },
  {
   "cell_type": "code",
   "execution_count": null,
   "id": "54def39e",
   "metadata": {},
   "outputs": [],
   "source": [
    "#Selecting pairs with opposite charges\n",
    "\n",
    "two_muons_charges = branches['Muon_charge'][two_muons_mask]\n",
    "opposite_sign_muons_mask = two_muons_charges[:, 0] != two_muons_charges[:, 1]\n",
    "\n",
    "#Applying this to 4-vector sum to get dimuon 4-vectors\n",
    "\n",
    "dimuon_p4 = sum_p4[opposite_sign_muons_mask]"
   ]
  },
  {
   "cell_type": "code",
   "execution_count": null,
   "id": "b8e7d0e9",
   "metadata": {},
   "outputs": [],
   "source": [
    "#Plot dimuon invariant mass to see resonances\n",
    "\n",
    "plt.hist(dimuon_p4.mass, bins=np.logspace(np.log10(0.1), np.log10(1000), 200))\n",
    "plt.xlabel('Dimuon invariant mass [GeV]')\n",
    "plt.ylabel('Number of dimuon events')\n",
    "plt.xscale('log')\n",
    "plt.yscale('log')\n",
    "plt.show()"
   ]
  },
  {
   "cell_type": "markdown",
   "id": "6c66f673",
   "metadata": {},
   "source": [
    "**Fitting a distribution to the peak**"
   ]
  },
  {
   "cell_type": "code",
   "execution_count": null,
   "id": "d46da337",
   "metadata": {},
   "outputs": [],
   "source": [
    "plt.hist(dimuon_p4.mass, bins=40, range=(70, 110))\n",
    "plt.xlabel('Dimuon invariant mass [GeV]')\n",
    "plt.ylabel('Number of dimuon events / 1 MeV')\n",
    "plt.show()"
   ]
  },
  {
   "cell_type": "code",
   "execution_count": null,
   "id": "a4972fed",
   "metadata": {},
   "outputs": [],
   "source": [
    "#Fitting the relativistic Breit-Wigner distribution for resonances\n",
    "\n",
    "def relativistic_breit_wigner(x, resonance_mass, width, normalization):\n",
    "    gamma = np.sqrt(resonance_mass ** 2 * (resonance_mass ** 2 + width ** 2))\n",
    "    k = 2.0 * np.sqrt(2) * resonance_mass * width * gamma / (np.pi * np.sqrt(resonance_mass ** 2 + gamma))\n",
    "    return normalization * k / ((x ** 2 - resonance_mass ** 2) ** 2 + resonance_mass ** 2 * width ** 2)\n",
    "\n",
    "bin_contents, bin_edges = np.histogram(dimuon_p4.mass.to_numpy(), bins=20, range=(80, 100))\n",
    "bin_centers = (bin_edges[:-1] + bin_edges[1:]) / 2.0\n",
    "popt, pcov = curve_fit(relativistic_breit_wigner, bin_centers, bin_contents, p0=[90, 10, 1000], sigma=np.sqrt(bin_contents))\n",
    "\n",
    "plt.hist(dimuon_p4.mass, bins=40, range=(70, 110), label='Data')\n",
    "x = np.linspace(80, 100, 200)\n",
    "y = relativistic_breit_wigner(x, *popt)\n",
    "plt.plot(x, y, label='Fit')\n",
    "plt.xlabel('Dimuon invariant mass [GeV]')\n",
    "plt.ylabel('Number of dimuon events / 1 MeV')\n",
    "plt.legend()\n",
    "plt.show()"
   ]
  },
  {
   "cell_type": "code",
   "execution_count": null,
   "id": "a116c8a4",
   "metadata": {},
   "outputs": [],
   "source": [
    "#The peak position is in popt[0]\n",
    "\n",
    "popt[0]"
   ]
  }
 ],
 "metadata": {
  "kernelspec": {
   "display_name": "Python 3",
   "language": "python",
   "name": "python3"
  },
  "language_info": {
   "codemirror_mode": {
    "name": "ipython",
    "version": 3
   },
   "file_extension": ".py",
   "mimetype": "text/x-python",
   "name": "python",
   "nbconvert_exporter": "python",
   "pygments_lexer": "ipython3",
   "version": "3.9.12"
  }
 },
 "nbformat": 4,
 "nbformat_minor": 5
}
