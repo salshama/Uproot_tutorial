{
 "cells": [
  {
   "cell_type": "markdown",
   "id": "9bef1ffe",
   "metadata": {},
   "source": [
    "**Uproot = ROOT files <br>\n",
    "Awkward array = arrays of irregular types <br>\n",
    "Hist = histograms <br>\n",
    "Iminuit = optimization <br>\n",
    "Zfit = fits <br>\n",
    "Particle = PDG-style data**"
   ]
  },
  {
   "cell_type": "markdown",
   "id": "e721b098",
   "metadata": {},
   "source": [
    "<font color='red'>**Reading a histogram**</font>\n",
    "\n",
    "<em>Read the file first</em> <br>\n",
    "file = uproot.open(filename) <br>\n",
    "<br>\n",
    "<em>Access histogram</em> <br>\n",
    "h = file[\"hstat\"] <br>\n",
    "<br>\n",
    "<em>Plot histogram</em> <br>\n",
    "h.to_hist().plot() <br>\n",
    "<br>\n",
    "<em>Bin contents</em> <br>\n",
    "h.values() <br>\n",
    "<br>\n",
    "<em>Variances (errors squared)</em> <br>\n",
    "h.variances() <br>\n",
    "<br>\n",
    "<em>\"Edges\" like \"x\", \"y\",\"z\",0,1,2,etc</em> <br>\n",
    "h.axis(\"x\").edges() <br>"
   ]
  },
  {
   "cell_type": "markdown",
   "id": "ed572826",
   "metadata": {},
   "source": [
    "<font color='red'>**Reading data from a file**</font>\n",
    "\n",
    "<em>Read the file first</em> <br>\n",
    "t = file[\"T\"] <br>\n",
    "<br>\n",
    "<em>List contents</em> <br>\n",
    "t.show() or t.keys() or t[\"\"].typename or t[\"\"].interpretation <br>\n",
    "<br>\n",
    "<em>Most direct way of reading data from uproot.TBranch</em> <br>\n",
    "t[\"\"].array() <br>\n",
    "<br>\n",
    "<em>Reading all members regardless of type</em> <br>\n",
    "file[\"ProcessID0\"] <br>\n",
    "file[\"ProcessID0\"].all_members <br>\n",
    "<br>\n",
    "<em>Opening files for writing using uproot</em> <br>\n",
    "output1 = uproot.recreate(\"new filename.root\") or output2 = uproot.update(\"existing filename.root\") <br>\n",
    "<br>\n",
    "<em>Writing TTrees by assigning first batch and using \"extend\" for other batches</em> <br>\n",
    "output1[\"tree1\"] = {\"x\": np.random.randint(0, 10, 1000000), \"y\": np.random.normal(0, 1, 1000000)} <br>\n",
    "output1[\"tree1\"].extend({\"x\": np.random.randint(0, 10, 1000000), \"y\": np.random.normal(0, 1, 1000000)}) <br>\n",
    "output1[\"tree1\"].extend({\"x\": np.random.randint(0, 10, 1000000), \"y\": np.random.normal(0, 1, 1000000)}) <br>\n",
    "<br>\n",
    "<em>Writing TTrees by creating an empty TTree with uproot</em> <br>\n",
    "output1.mktree(\"tree2\", {\"x\": np.int32, \"y\": np.float64}) <br>\n",
    "output1[\"tree2\"].extend({\"x\": np.random.randint(0, 10, 1000000), \"y\": np.random.normal(0, 1, 1000000)}) <br>\n",
    "output1[\"tree2\"].extend({\"x\": np.random.randint(0, 10, 1000000), \"y\": np.random.normal(0, 1, 1000000)}) <br>\n",
    "output1[\"tree2\"].extend({\"x\": np.random.randint(0, 10, 1000000), \"y\": np.random.normal(0, 1, 1000000)}) <br>"
   ]
  },
  {
   "cell_type": "code",
   "execution_count": null,
   "id": "9aa0d6bc",
   "metadata": {},
   "outputs": [],
   "source": []
  }
 ],
 "metadata": {
  "kernelspec": {
   "display_name": "Python 3",
   "language": "python",
   "name": "python3"
  },
  "language_info": {
   "codemirror_mode": {
    "name": "ipython",
    "version": 3
   },
   "file_extension": ".py",
   "mimetype": "text/x-python",
   "name": "python",
   "nbconvert_exporter": "python",
   "pygments_lexer": "ipython3",
   "version": "3.9.6"
  }
 },
 "nbformat": 4,
 "nbformat_minor": 5
}
